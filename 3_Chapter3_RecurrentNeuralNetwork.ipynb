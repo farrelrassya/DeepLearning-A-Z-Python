{
  "nbformat": 4,
  "nbformat_minor": 0,
  "metadata": {
    "colab": {
      "provenance": [],
      "include_colab_link": true
    },
    "kernelspec": {
      "name": "python3",
      "display_name": "Python 3"
    }
  },
  "cells": [
    {
      "cell_type": "markdown",
      "metadata": {
        "id": "view-in-github",
        "colab_type": "text"
      },
      "source": [
        "<a href=\"https://colab.research.google.com/github/farrelrassya/DeepLearning-A-Z-Python/blob/main/4_Chapter4_RecurrentNeuralNetwork.ipynb\" target=\"_parent\"><img src=\"https://colab.research.google.com/assets/colab-badge.svg\" alt=\"Open In Colab\"/></a>"
      ]
    },
    {
      "cell_type": "markdown",
      "metadata": {
        "id": "xpAuMVCwfWs8"
      },
      "source": [
        "# Recurrent Neural Network"
      ]
    },
    {
      "cell_type": "markdown",
      "metadata": {
        "id": "nxJfRe4bfYVA"
      },
      "source": [
        "## Part 1 - Data Preprocessing"
      ]
    },
    {
      "cell_type": "markdown",
      "metadata": {
        "id": "ir9zwETrfbrp"
      },
      "source": [
        "### Importing the libraries"
      ]
    },
    {
      "cell_type": "code",
      "metadata": {
        "id": "ZT1f24vHffuf"
      },
      "source": [
        "import numpy as np\n",
        "import matplotlib.pyplot as plt\n",
        "import pandas as pd"
      ],
      "execution_count": 109,
      "outputs": []
    },
    {
      "cell_type": "markdown",
      "metadata": {
        "id": "nQ47JAxrgmaL"
      },
      "source": [
        "### Importing the training set"
      ]
    },
    {
      "cell_type": "code",
      "metadata": {
        "id": "1xiv3pJOgqY3"
      },
      "source": [
        "dataset_train = pd.read_csv('Google_Stock_Price_Train.csv')\n",
        "training_set = dataset_train.iloc[:, 1:2].values"
      ],
      "execution_count": 110,
      "outputs": []
    },
    {
      "cell_type": "markdown",
      "metadata": {
        "id": "HT8_2UJegtG5"
      },
      "source": [
        "### Feature Scaling"
      ]
    },
    {
      "cell_type": "code",
      "metadata": {
        "id": "OTrF2kR7gx9x"
      },
      "source": [
        "from sklearn.preprocessing import MinMaxScaler\n",
        "sc = MinMaxScaler(feature_range = (0, 1))\n",
        "training_set_scaled = sc.fit_transform(training_set)"
      ],
      "execution_count": 111,
      "outputs": []
    },
    {
      "cell_type": "markdown",
      "metadata": {
        "id": "JyYgYocqhNUg"
      },
      "source": [
        "### Creating a data structure with 60 timesteps and 1 output"
      ]
    },
    {
      "cell_type": "code",
      "metadata": {
        "id": "iofU21B0i6ST"
      },
      "source": [
        "X_train = []\n",
        "y_train = []\n",
        "for i in range(60, 1258):\n",
        "    X_train.append(training_set_scaled[i-60:i, 0])\n",
        "    y_train.append(training_set_scaled[i, 0])\n",
        "X_train, y_train = np.array(X_train), np.array(y_train)"
      ],
      "execution_count": 112,
      "outputs": []
    },
    {
      "cell_type": "markdown",
      "metadata": {
        "id": "D8yaN7Zvi95l"
      },
      "source": [
        "### Reshaping"
      ]
    },
    {
      "cell_type": "code",
      "metadata": {
        "id": "FOXqJHmNjBkz"
      },
      "source": [
        "X_train = np.reshape(X_train, (X_train.shape[0], X_train.shape[1], 1))"
      ],
      "execution_count": 113,
      "outputs": []
    },
    {
      "cell_type": "markdown",
      "metadata": {
        "id": "ZRRSOJeVjEWV"
      },
      "source": [
        "## Part 2 - Building and Training the RNN"
      ]
    },
    {
      "cell_type": "markdown",
      "metadata": {
        "id": "k4XV88JMjHXG"
      },
      "source": [
        "### Importing the Keras libraries and packages"
      ]
    },
    {
      "cell_type": "code",
      "metadata": {
        "id": "9JRnqsxEjKsD"
      },
      "source": [
        "from keras.models import Sequential\n",
        "from keras.layers import Dense\n",
        "from keras.layers import LSTM\n",
        "from keras.layers import Dropout"
      ],
      "execution_count": 114,
      "outputs": []
    },
    {
      "cell_type": "markdown",
      "metadata": {
        "id": "FEIE-1s9jNzC"
      },
      "source": [
        "### Initialising the RNN"
      ]
    },
    {
      "cell_type": "code",
      "metadata": {
        "id": "1338dJ0UjRKH"
      },
      "source": [
        "regressor = Sequential()"
      ],
      "execution_count": 115,
      "outputs": []
    },
    {
      "cell_type": "markdown",
      "metadata": {
        "id": "62eg1OPGjT8z"
      },
      "source": [
        "### Adding the first LSTM layer and some Dropout regularisation"
      ]
    },
    {
      "cell_type": "code",
      "metadata": {
        "id": "2hIinyXUjbVU"
      },
      "source": [
        "regressor.add(LSTM(units = 128, return_sequences = True, input_shape = (X_train.shape[1], 1)))\n",
        "regressor.add(Dropout(0.1))"
      ],
      "execution_count": 116,
      "outputs": []
    },
    {
      "cell_type": "markdown",
      "metadata": {
        "id": "3XBIYLyOjlMx"
      },
      "source": [
        "### Adding a second LSTM layer and some Dropout regularisation"
      ]
    },
    {
      "cell_type": "code",
      "metadata": {
        "id": "UG7nrVaSjuZ2"
      },
      "source": [
        "regressor.add(LSTM(units = 128, return_sequences = True))\n",
        "regressor.add(Dropout(0.1))"
      ],
      "execution_count": 117,
      "outputs": []
    },
    {
      "cell_type": "markdown",
      "metadata": {
        "id": "Ey3fHVnGj1cu"
      },
      "source": [
        "### Adding a third LSTM layer and some Dropout regularisation"
      ]
    },
    {
      "cell_type": "code",
      "metadata": {
        "id": "PuNi6PgFj7jO"
      },
      "source": [
        "regressor.add(LSTM(units = 128, return_sequences = True))\n",
        "regressor.add(Dropout(0.2))"
      ],
      "execution_count": 118,
      "outputs": []
    },
    {
      "cell_type": "markdown",
      "metadata": {
        "id": "SYTrtfTmj933"
      },
      "source": [
        "### Adding a fourth LSTM layer and some Dropout regularisation"
      ]
    },
    {
      "cell_type": "code",
      "metadata": {
        "id": "Jp4Ty8fRkBYV"
      },
      "source": [
        "regressor.add(LSTM(units=128))\n",
        "regressor.add(Dropout(0.2))"
      ],
      "execution_count": 119,
      "outputs": []
    },
    {
      "cell_type": "markdown",
      "metadata": {
        "id": "9ABI6rOIkHhk"
      },
      "source": [
        "### Adding the output layer"
      ]
    },
    {
      "cell_type": "code",
      "metadata": {
        "id": "aM6R1z4WkME8"
      },
      "source": [
        "regressor.add(Dense(units = 1))"
      ],
      "execution_count": 120,
      "outputs": []
    },
    {
      "cell_type": "markdown",
      "metadata": {
        "id": "zLx4K7uUkPSh"
      },
      "source": [
        "### Compiling the RNN"
      ]
    },
    {
      "cell_type": "code",
      "metadata": {
        "id": "XTrhVN-tkbko"
      },
      "source": [
        "regressor.compile(optimizer = 'adam', loss = 'mean_squared_error')"
      ],
      "execution_count": 121,
      "outputs": []
    },
    {
      "cell_type": "markdown",
      "metadata": {
        "id": "-mPhwKGkkebi"
      },
      "source": [
        "### Fitting the RNN to the Training set"
      ]
    },
    {
      "cell_type": "code",
      "metadata": {
        "id": "I06Nkrz5kkb-",
        "colab": {
          "base_uri": "https://localhost:8080/"
        },
        "outputId": "4a978ef2-a189-4903-d3f8-0867ab9b376a"
      },
      "source": [
        "regressor.fit(X_train, y_train, epochs = 100, batch_size = 16)"
      ],
      "execution_count": 122,
      "outputs": [
        {
          "output_type": "stream",
          "name": "stdout",
          "text": [
            "Epoch 1/100\n",
            "75/75 [==============================] - 26s 228ms/step - loss: 0.0216\n",
            "Epoch 2/100\n",
            "75/75 [==============================] - 16s 220ms/step - loss: 0.0036\n",
            "Epoch 3/100\n",
            "75/75 [==============================] - 17s 223ms/step - loss: 0.0040\n",
            "Epoch 4/100\n",
            "75/75 [==============================] - 18s 238ms/step - loss: 0.0039\n",
            "Epoch 5/100\n",
            "75/75 [==============================] - 17s 221ms/step - loss: 0.0034\n",
            "Epoch 6/100\n",
            "75/75 [==============================] - 17s 221ms/step - loss: 0.0030\n",
            "Epoch 7/100\n",
            "75/75 [==============================] - 18s 239ms/step - loss: 0.0028\n",
            "Epoch 8/100\n",
            "75/75 [==============================] - 17s 223ms/step - loss: 0.0029\n",
            "Epoch 9/100\n",
            "75/75 [==============================] - 17s 223ms/step - loss: 0.0027\n",
            "Epoch 10/100\n",
            "75/75 [==============================] - 18s 234ms/step - loss: 0.0027\n",
            "Epoch 11/100\n",
            "75/75 [==============================] - 17s 222ms/step - loss: 0.0021\n",
            "Epoch 12/100\n",
            "75/75 [==============================] - 17s 222ms/step - loss: 0.0028\n",
            "Epoch 13/100\n",
            "75/75 [==============================] - 19s 251ms/step - loss: 0.0029\n",
            "Epoch 14/100\n",
            "75/75 [==============================] - 17s 220ms/step - loss: 0.0026\n",
            "Epoch 15/100\n",
            "75/75 [==============================] - 16s 220ms/step - loss: 0.0030\n",
            "Epoch 16/100\n",
            "75/75 [==============================] - 17s 223ms/step - loss: 0.0025\n",
            "Epoch 17/100\n",
            "75/75 [==============================] - 18s 234ms/step - loss: 0.0020\n",
            "Epoch 18/100\n",
            "75/75 [==============================] - 17s 222ms/step - loss: 0.0021\n",
            "Epoch 19/100\n",
            "75/75 [==============================] - 17s 223ms/step - loss: 0.0023\n",
            "Epoch 20/100\n",
            "75/75 [==============================] - 18s 240ms/step - loss: 0.0019\n",
            "Epoch 21/100\n",
            "75/75 [==============================] - 17s 223ms/step - loss: 0.0019\n",
            "Epoch 22/100\n",
            "75/75 [==============================] - 17s 224ms/step - loss: 0.0017\n",
            "Epoch 23/100\n",
            "75/75 [==============================] - 18s 239ms/step - loss: 0.0019\n",
            "Epoch 24/100\n",
            "75/75 [==============================] - 17s 223ms/step - loss: 0.0016\n",
            "Epoch 25/100\n",
            "75/75 [==============================] - 17s 221ms/step - loss: 0.0016\n",
            "Epoch 26/100\n",
            "75/75 [==============================] - 18s 238ms/step - loss: 0.0019\n",
            "Epoch 27/100\n",
            "75/75 [==============================] - 17s 220ms/step - loss: 0.0016\n",
            "Epoch 28/100\n",
            "75/75 [==============================] - 17s 223ms/step - loss: 0.0015\n",
            "Epoch 29/100\n",
            "75/75 [==============================] - 17s 232ms/step - loss: 0.0014\n",
            "Epoch 30/100\n",
            "75/75 [==============================] - 18s 245ms/step - loss: 0.0014\n",
            "Epoch 31/100\n",
            "75/75 [==============================] - 17s 221ms/step - loss: 0.0014\n",
            "Epoch 32/100\n",
            "75/75 [==============================] - 17s 222ms/step - loss: 0.0019\n",
            "Epoch 33/100\n",
            "75/75 [==============================] - 18s 241ms/step - loss: 0.0013\n",
            "Epoch 34/100\n",
            "75/75 [==============================] - 17s 224ms/step - loss: 0.0014\n",
            "Epoch 35/100\n",
            "75/75 [==============================] - 17s 224ms/step - loss: 0.0014\n",
            "Epoch 36/100\n",
            "75/75 [==============================] - 18s 240ms/step - loss: 0.0013\n",
            "Epoch 37/100\n",
            "75/75 [==============================] - 17s 222ms/step - loss: 0.0014\n",
            "Epoch 38/100\n",
            "75/75 [==============================] - 17s 228ms/step - loss: 0.0013\n",
            "Epoch 39/100\n",
            "75/75 [==============================] - 18s 243ms/step - loss: 0.0013\n",
            "Epoch 40/100\n",
            "75/75 [==============================] - 16s 217ms/step - loss: 0.0013\n",
            "Epoch 41/100\n",
            "75/75 [==============================] - 16s 214ms/step - loss: 0.0012\n",
            "Epoch 42/100\n",
            "75/75 [==============================] - 16s 218ms/step - loss: 0.0013\n",
            "Epoch 43/100\n",
            "75/75 [==============================] - 17s 228ms/step - loss: 0.0012\n",
            "Epoch 44/100\n",
            "75/75 [==============================] - 16s 218ms/step - loss: 0.0016\n",
            "Epoch 45/100\n",
            "75/75 [==============================] - 16s 214ms/step - loss: 0.0011\n",
            "Epoch 46/100\n",
            "75/75 [==============================] - 19s 248ms/step - loss: 0.0011\n",
            "Epoch 47/100\n",
            "75/75 [==============================] - 16s 216ms/step - loss: 0.0011\n",
            "Epoch 48/100\n",
            "75/75 [==============================] - 16s 217ms/step - loss: 0.0011\n",
            "Epoch 49/100\n",
            "75/75 [==============================] - 16s 219ms/step - loss: 0.0011\n",
            "Epoch 50/100\n",
            "75/75 [==============================] - 18s 234ms/step - loss: 0.0011\n",
            "Epoch 51/100\n",
            "75/75 [==============================] - 16s 216ms/step - loss: 0.0012\n",
            "Epoch 52/100\n",
            "75/75 [==============================] - 16s 218ms/step - loss: 0.0012\n",
            "Epoch 53/100\n",
            "75/75 [==============================] - 17s 227ms/step - loss: 0.0010\n",
            "Epoch 54/100\n",
            "75/75 [==============================] - 17s 220ms/step - loss: 0.0012\n",
            "Epoch 55/100\n",
            "75/75 [==============================] - 16s 220ms/step - loss: 0.0011\n",
            "Epoch 56/100\n",
            "75/75 [==============================] - 16s 218ms/step - loss: 9.7767e-04\n",
            "Epoch 57/100\n",
            "75/75 [==============================] - 17s 233ms/step - loss: 9.3501e-04\n",
            "Epoch 58/100\n",
            "75/75 [==============================] - 16s 220ms/step - loss: 0.0012\n",
            "Epoch 59/100\n",
            "75/75 [==============================] - 16s 219ms/step - loss: 0.0011\n",
            "Epoch 60/100\n",
            "75/75 [==============================] - 17s 223ms/step - loss: 0.0010\n",
            "Epoch 61/100\n",
            "75/75 [==============================] - 17s 224ms/step - loss: 9.1287e-04\n",
            "Epoch 62/100\n",
            "75/75 [==============================] - 16s 219ms/step - loss: 9.5564e-04\n",
            "Epoch 63/100\n",
            "75/75 [==============================] - 18s 234ms/step - loss: 8.9098e-04\n",
            "Epoch 64/100\n",
            "75/75 [==============================] - 17s 232ms/step - loss: 8.8495e-04\n",
            "Epoch 65/100\n",
            "75/75 [==============================] - 16s 220ms/step - loss: 0.0011\n",
            "Epoch 66/100\n",
            "75/75 [==============================] - 16s 217ms/step - loss: 0.0010\n",
            "Epoch 67/100\n",
            "75/75 [==============================] - 17s 230ms/step - loss: 8.3871e-04\n",
            "Epoch 68/100\n",
            "75/75 [==============================] - 17s 221ms/step - loss: 0.0011\n",
            "Epoch 69/100\n",
            "75/75 [==============================] - 17s 231ms/step - loss: 9.3174e-04\n",
            "Epoch 70/100\n",
            "75/75 [==============================] - 18s 238ms/step - loss: 9.2139e-04\n",
            "Epoch 71/100\n",
            "75/75 [==============================] - 18s 244ms/step - loss: 0.0010\n",
            "Epoch 72/100\n",
            "75/75 [==============================] - 17s 231ms/step - loss: 0.0011\n",
            "Epoch 73/100\n",
            "75/75 [==============================] - 16s 217ms/step - loss: 9.2185e-04\n",
            "Epoch 74/100\n",
            "75/75 [==============================] - 18s 246ms/step - loss: 0.0010\n",
            "Epoch 75/100\n",
            "75/75 [==============================] - 17s 227ms/step - loss: 9.2568e-04\n",
            "Epoch 76/100\n",
            "75/75 [==============================] - 17s 228ms/step - loss: 9.7528e-04\n",
            "Epoch 77/100\n",
            "75/75 [==============================] - 18s 243ms/step - loss: 0.0010\n",
            "Epoch 78/100\n",
            "75/75 [==============================] - 17s 229ms/step - loss: 9.9865e-04\n",
            "Epoch 79/100\n",
            "75/75 [==============================] - 19s 248ms/step - loss: 9.5723e-04\n",
            "Epoch 80/100\n",
            "75/75 [==============================] - 17s 234ms/step - loss: 8.9711e-04\n",
            "Epoch 81/100\n",
            "75/75 [==============================] - 17s 228ms/step - loss: 7.7009e-04\n",
            "Epoch 82/100\n",
            "75/75 [==============================] - 17s 224ms/step - loss: 9.5820e-04\n",
            "Epoch 83/100\n",
            "75/75 [==============================] - 17s 223ms/step - loss: 8.7144e-04\n",
            "Epoch 84/100\n",
            "75/75 [==============================] - 18s 239ms/step - loss: 9.0862e-04\n",
            "Epoch 85/100\n",
            "75/75 [==============================] - 17s 223ms/step - loss: 8.5690e-04\n",
            "Epoch 86/100\n",
            "75/75 [==============================] - 17s 225ms/step - loss: 8.7048e-04\n",
            "Epoch 87/100\n",
            "75/75 [==============================] - 18s 243ms/step - loss: 0.0010\n",
            "Epoch 88/100\n",
            "75/75 [==============================] - 17s 227ms/step - loss: 9.4779e-04\n",
            "Epoch 89/100\n",
            "75/75 [==============================] - 17s 230ms/step - loss: 8.0091e-04\n",
            "Epoch 90/100\n",
            "75/75 [==============================] - 18s 237ms/step - loss: 7.9509e-04\n",
            "Epoch 91/100\n",
            "75/75 [==============================] - 17s 229ms/step - loss: 9.1053e-04\n",
            "Epoch 92/100\n",
            "75/75 [==============================] - 16s 215ms/step - loss: 9.5911e-04\n",
            "Epoch 93/100\n",
            "75/75 [==============================] - 17s 228ms/step - loss: 9.4319e-04\n",
            "Epoch 94/100\n",
            "75/75 [==============================] - 18s 240ms/step - loss: 0.0012\n",
            "Epoch 95/100\n",
            "75/75 [==============================] - 19s 247ms/step - loss: 8.0659e-04\n",
            "Epoch 96/100\n",
            "75/75 [==============================] - 16s 217ms/step - loss: 8.3621e-04\n",
            "Epoch 97/100\n",
            "75/75 [==============================] - 18s 244ms/step - loss: 7.1579e-04\n",
            "Epoch 98/100\n",
            "75/75 [==============================] - 17s 228ms/step - loss: 8.1042e-04\n",
            "Epoch 99/100\n",
            "75/75 [==============================] - 17s 225ms/step - loss: 8.7402e-04\n",
            "Epoch 100/100\n",
            "75/75 [==============================] - 18s 240ms/step - loss: 7.9154e-04\n"
          ]
        },
        {
          "output_type": "execute_result",
          "data": {
            "text/plain": [
              "<keras.src.callbacks.History at 0x7b974224d5d0>"
            ]
          },
          "metadata": {},
          "execution_count": 122
        }
      ]
    },
    {
      "cell_type": "markdown",
      "metadata": {
        "id": "4hRau_lIkrE8"
      },
      "source": [
        "## Part 3 - Making the predictions and visualising the results"
      ]
    },
    {
      "cell_type": "markdown",
      "metadata": {
        "id": "SgJO6qEDksxD"
      },
      "source": [
        "### Getting the real stock price of 2017"
      ]
    },
    {
      "cell_type": "code",
      "metadata": {
        "id": "FmBT2zqukxTz"
      },
      "source": [
        "dataset_test = pd.read_csv('Google_Stock_Price_Test.csv')\n",
        "real_stock_price = dataset_test.iloc[:, 1:2].values"
      ],
      "execution_count": 123,
      "outputs": []
    },
    {
      "cell_type": "markdown",
      "metadata": {
        "id": "GrvrLblxkz42"
      },
      "source": [
        "### Getting the predicted stock price of 2017"
      ]
    },
    {
      "cell_type": "code",
      "metadata": {
        "id": "emikTvUpk3Ck",
        "colab": {
          "base_uri": "https://localhost:8080/"
        },
        "outputId": "51e6ff6e-ca68-4c40-a553-95c631e2eb5a"
      },
      "source": [
        "dataset_total = pd.concat((dataset_train['Open'], dataset_test['Open']), axis = 0)\n",
        "inputs = dataset_total[len(dataset_total) - len(dataset_test) - 60:].values\n",
        "inputs = inputs.reshape(-1,1)\n",
        "inputs = sc.transform(inputs)\n",
        "X_test = []\n",
        "for i in range(60, 80):\n",
        "    X_test.append(inputs[i-60:i, 0])\n",
        "X_test = np.array(X_test)\n",
        "X_test = np.reshape(X_test, (X_test.shape[0], X_test.shape[1], 1))\n",
        "predicted_stock_price = regressor.predict(X_test)\n",
        "predicted_stock_price = sc.inverse_transform(predicted_stock_price)"
      ],
      "execution_count": 124,
      "outputs": [
        {
          "output_type": "stream",
          "name": "stdout",
          "text": [
            "1/1 [==============================] - 2s 2s/step\n"
          ]
        }
      ]
    },
    {
      "cell_type": "markdown",
      "metadata": {
        "id": "iFTNs3YHk6FQ"
      },
      "source": [
        "### Visualising the results"
      ]
    },
    {
      "cell_type": "code",
      "metadata": {
        "id": "8OUI8U49k9tH",
        "colab": {
          "base_uri": "https://localhost:8080/",
          "height": 472
        },
        "outputId": "bd47bd28-5dc1-44f3-be72-88ff388e20b3"
      },
      "source": [
        "plt.plot(real_stock_price, color = 'red', label = 'Real Google Stock Price')\n",
        "plt.plot(predicted_stock_price, color = 'blue', label = 'Predicted Google Stock Price')\n",
        "plt.title('Google Stock Price Prediction')\n",
        "plt.xlabel('Time')\n",
        "plt.ylabel('Google Stock Price')\n",
        "plt.legend()\n",
        "plt.show()"
      ],
      "execution_count": 125,
      "outputs": [
        {
          "output_type": "display_data",
          "data": {
            "text/plain": [
              "<Figure size 640x480 with 1 Axes>"
            ],
            "image/png": "[encoded data removed]"
          },
          "metadata": {}
        }
      ]
    },
    {
      "cell_type": "code",
      "source": [
        "import math\n",
        "from sklearn.metrics import mean_squared_error\n",
        "rmse = math.sqrt(mean_squared_error(real_stock_price, predicted_stock_price))\n",
        "rmse"
      ],
      "metadata": {
        "colab": {
          "base_uri": "https://localhost:8080/"
        },
        "id": "HSpxA8RWenzQ",
        "outputId": "f590f9ce-df74-4ac5-e9bd-12e2412c932d"
      },
      "execution_count": 127,
      "outputs": [
        {
          "output_type": "execute_result",
          "data": {
            "text/plain": [
              "12.119251211898522"
            ]
          },
          "metadata": {},
          "execution_count": 127
        }
      ]
    },
    {
      "cell_type": "code",
      "source": [],
      "metadata": {
        "id": "wEeHQiFheoKy"
      },
      "execution_count": null,
      "outputs": []
    }
  ]
}
